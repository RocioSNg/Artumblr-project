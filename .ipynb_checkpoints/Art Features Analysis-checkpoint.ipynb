{
 "metadata": {
  "name": ""
 },
 "nbformat": 3,
 "nbformat_minor": 0,
 "worksheets": [
  {
   "cells": [
    {
     "cell_type": "code",
     "collapsed": false,
     "input": [
      "%matplotlib inline\n",
      "import csv\n",
      "import pandas as pd\n",
      "import numpy as np\n",
      "import matplotlib.pyplot as plt\n",
      "from sklearn.cluster import KMeans\n",
      "from for_prediction import img_from_url\n",
      "import scipy.spatial as sp\n"
     ],
     "language": "python",
     "metadata": {},
     "outputs": [],
     "prompt_number": 32
    },
    {
     "cell_type": "code",
     "collapsed": false,
     "input": [
      "art = pd.DataFrame.from_csv('data/artwork_features_test.csv', index_col= [0,1])\n"
     ],
     "language": "python",
     "metadata": {},
     "outputs": [],
     "prompt_number": 33
    },
    {
     "cell_type": "code",
     "collapsed": false,
     "input": [
      "art.head()"
     ],
     "language": "python",
     "metadata": {},
     "outputs": [
      {
       "html": [
        "<div style=\"max-height:1000px;max-width:1500px;overflow:auto;\">\n",
        "<table border=\"1\" class=\"dataframe\">\n",
        "  <thead>\n",
        "    <tr style=\"text-align: right;\">\n",
        "      <th></th>\n",
        "      <th></th>\n",
        "      <th>avg_blue</th>\n",
        "      <th>high_blue</th>\n",
        "      <th>med_blue</th>\n",
        "      <th>low_blue</th>\n",
        "      <th>avg_green</th>\n",
        "      <th>high_green</th>\n",
        "      <th>med_green</th>\n",
        "      <th>low_green</th>\n",
        "      <th>avg_red</th>\n",
        "      <th>high_red</th>\n",
        "      <th>med_red</th>\n",
        "      <th>low_red</th>\n",
        "    </tr>\n",
        "    <tr>\n",
        "      <th>X</th>\n",
        "      <th>X.1</th>\n",
        "      <th></th>\n",
        "      <th></th>\n",
        "      <th></th>\n",
        "      <th></th>\n",
        "      <th></th>\n",
        "      <th></th>\n",
        "      <th></th>\n",
        "      <th></th>\n",
        "      <th></th>\n",
        "      <th></th>\n",
        "      <th></th>\n",
        "      <th></th>\n",
        "    </tr>\n",
        "  </thead>\n",
        "  <tbody>\n",
        "    <tr>\n",
        "      <th>antoinebirot</th>\n",
        "      <th>http://41.media.tumblr.com/tumblr_mcac79Rwrz1rw2tuzo1_r1_1280.jpg</th>\n",
        "      <td> 0.366431</td>\n",
        "      <td> 0.194490</td>\n",
        "      <td> 0.218795</td>\n",
        "      <td> 0.586715</td>\n",
        "      <td> 0.415074</td>\n",
        "      <td> 0.208703</td>\n",
        "      <td> 0.287517</td>\n",
        "      <td> 0.503780</td>\n",
        "      <td> 0.418353</td>\n",
        "      <td> 0.213254</td>\n",
        "      <td> 0.289302</td>\n",
        "      <td> 0.497444</td>\n",
        "    </tr>\n",
        "    <tr>\n",
        "      <th>aprill-showers</th>\n",
        "      <th>http://40.media.tumblr.com/266b54f0a640f9e59f1f627f587032c3/tumblr_n2wm1sP4kE1ra1ki4o1_1280.jpg</th>\n",
        "      <td> 0.602852</td>\n",
        "      <td> 0.329309</td>\n",
        "      <td> 0.607555</td>\n",
        "      <td> 0.063136</td>\n",
        "      <td> 0.588518</td>\n",
        "      <td> 0.236383</td>\n",
        "      <td> 0.690114</td>\n",
        "      <td> 0.073503</td>\n",
        "      <td> 0.628665</td>\n",
        "      <td> 0.458820</td>\n",
        "      <td> 0.446571</td>\n",
        "      <td> 0.094609</td>\n",
        "    </tr>\n",
        "    <tr>\n",
        "      <th>anna--draws</th>\n",
        "      <th>http://40.media.tumblr.com/c590f1db5324a69aedcdca10892a7fa4/tumblr_nnodxdanJ81s1o54ko1_1280.jpg</th>\n",
        "      <td> 0.386470</td>\n",
        "      <td> 0.083480</td>\n",
        "      <td> 0.565602</td>\n",
        "      <td> 0.350917</td>\n",
        "      <td> 0.386470</td>\n",
        "      <td> 0.083480</td>\n",
        "      <td> 0.565602</td>\n",
        "      <td> 0.350917</td>\n",
        "      <td> 0.386470</td>\n",
        "      <td> 0.083480</td>\n",
        "      <td> 0.565602</td>\n",
        "      <td> 0.350917</td>\n",
        "    </tr>\n",
        "    <tr>\n",
        "      <th>997</th>\n",
        "      <th>http://41.media.tumblr.com/1a12ed7171b8607aeb0a03c9ef37854b/tumblr_nhbparI2sc1qeenqgo1_1280.jpg</th>\n",
        "      <td> 0.256087</td>\n",
        "      <td> 0.000095</td>\n",
        "      <td> 0.379674</td>\n",
        "      <td> 0.620231</td>\n",
        "      <td> 0.347014</td>\n",
        "      <td> 0.035832</td>\n",
        "      <td> 0.531954</td>\n",
        "      <td> 0.432214</td>\n",
        "      <td> 0.363870</td>\n",
        "      <td> 0.120135</td>\n",
        "      <td> 0.400142</td>\n",
        "      <td> 0.479723</td>\n",
        "    </tr>\n",
        "    <tr>\n",
        "      <th>10000saints</th>\n",
        "      <th>http://41.media.tumblr.com/88e15c193cddb725f7aeb66a5cad9449/tumblr_mxazuxMODc1rm4wgqo2_1280.jpg</th>\n",
        "      <td> 0.404175</td>\n",
        "      <td> 0.169388</td>\n",
        "      <td> 0.417836</td>\n",
        "      <td> 0.412776</td>\n",
        "      <td> 0.516319</td>\n",
        "      <td> 0.245036</td>\n",
        "      <td> 0.551501</td>\n",
        "      <td> 0.203464</td>\n",
        "      <td> 0.628474</td>\n",
        "      <td> 0.457866</td>\n",
        "      <td> 0.418434</td>\n",
        "      <td> 0.123700</td>\n",
        "    </tr>\n",
        "  </tbody>\n",
        "</table>\n",
        "<p>5 rows \u00d7 12 columns</p>\n",
        "</div>"
       ],
       "metadata": {},
       "output_type": "pyout",
       "prompt_number": 34,
       "text": [
        "                                                                                                                avg_blue  \\\n",
        "X              X.1                                                                                                         \n",
        "antoinebirot   http://41.media.tumblr.com/tumblr_mcac79Rwrz1rw2tuzo1_r1_1280.jpg                                0.366431   \n",
        "aprill-showers http://40.media.tumblr.com/266b54f0a640f9e59f1f627f587032c3/tumblr_n2wm1sP4kE1ra1ki4o1_1280.jpg  0.602852   \n",
        "anna--draws    http://40.media.tumblr.com/c590f1db5324a69aedcdca10892a7fa4/tumblr_nnodxdanJ81s1o54ko1_1280.jpg  0.386470   \n",
        "997            http://41.media.tumblr.com/1a12ed7171b8607aeb0a03c9ef37854b/tumblr_nhbparI2sc1qeenqgo1_1280.jpg  0.256087   \n",
        "10000saints    http://41.media.tumblr.com/88e15c193cddb725f7aeb66a5cad9449/tumblr_mxazuxMODc1rm4wgqo2_1280.jpg  0.404175   \n",
        "\n",
        "                                                                                                                high_blue  \\\n",
        "X              X.1                                                                                                          \n",
        "antoinebirot   http://41.media.tumblr.com/tumblr_mcac79Rwrz1rw2tuzo1_r1_1280.jpg                                 0.194490   \n",
        "aprill-showers http://40.media.tumblr.com/266b54f0a640f9e59f1f627f587032c3/tumblr_n2wm1sP4kE1ra1ki4o1_1280.jpg   0.329309   \n",
        "anna--draws    http://40.media.tumblr.com/c590f1db5324a69aedcdca10892a7fa4/tumblr_nnodxdanJ81s1o54ko1_1280.jpg   0.083480   \n",
        "997            http://41.media.tumblr.com/1a12ed7171b8607aeb0a03c9ef37854b/tumblr_nhbparI2sc1qeenqgo1_1280.jpg   0.000095   \n",
        "10000saints    http://41.media.tumblr.com/88e15c193cddb725f7aeb66a5cad9449/tumblr_mxazuxMODc1rm4wgqo2_1280.jpg   0.169388   \n",
        "\n",
        "                                                                                                                med_blue  \\\n",
        "X              X.1                                                                                                         \n",
        "antoinebirot   http://41.media.tumblr.com/tumblr_mcac79Rwrz1rw2tuzo1_r1_1280.jpg                                0.218795   \n",
        "aprill-showers http://40.media.tumblr.com/266b54f0a640f9e59f1f627f587032c3/tumblr_n2wm1sP4kE1ra1ki4o1_1280.jpg  0.607555   \n",
        "anna--draws    http://40.media.tumblr.com/c590f1db5324a69aedcdca10892a7fa4/tumblr_nnodxdanJ81s1o54ko1_1280.jpg  0.565602   \n",
        "997            http://41.media.tumblr.com/1a12ed7171b8607aeb0a03c9ef37854b/tumblr_nhbparI2sc1qeenqgo1_1280.jpg  0.379674   \n",
        "10000saints    http://41.media.tumblr.com/88e15c193cddb725f7aeb66a5cad9449/tumblr_mxazuxMODc1rm4wgqo2_1280.jpg  0.417836   \n",
        "\n",
        "                                                                                                                low_blue  \\\n",
        "X              X.1                                                                                                         \n",
        "antoinebirot   http://41.media.tumblr.com/tumblr_mcac79Rwrz1rw2tuzo1_r1_1280.jpg                                0.586715   \n",
        "aprill-showers http://40.media.tumblr.com/266b54f0a640f9e59f1f627f587032c3/tumblr_n2wm1sP4kE1ra1ki4o1_1280.jpg  0.063136   \n",
        "anna--draws    http://40.media.tumblr.com/c590f1db5324a69aedcdca10892a7fa4/tumblr_nnodxdanJ81s1o54ko1_1280.jpg  0.350917   \n",
        "997            http://41.media.tumblr.com/1a12ed7171b8607aeb0a03c9ef37854b/tumblr_nhbparI2sc1qeenqgo1_1280.jpg  0.620231   \n",
        "10000saints    http://41.media.tumblr.com/88e15c193cddb725f7aeb66a5cad9449/tumblr_mxazuxMODc1rm4wgqo2_1280.jpg  0.412776   \n",
        "\n",
        "                                                                                                                avg_green  \\\n",
        "X              X.1                                                                                                          \n",
        "antoinebirot   http://41.media.tumblr.com/tumblr_mcac79Rwrz1rw2tuzo1_r1_1280.jpg                                 0.415074   \n",
        "aprill-showers http://40.media.tumblr.com/266b54f0a640f9e59f1f627f587032c3/tumblr_n2wm1sP4kE1ra1ki4o1_1280.jpg   0.588518   \n",
        "anna--draws    http://40.media.tumblr.com/c590f1db5324a69aedcdca10892a7fa4/tumblr_nnodxdanJ81s1o54ko1_1280.jpg   0.386470   \n",
        "997            http://41.media.tumblr.com/1a12ed7171b8607aeb0a03c9ef37854b/tumblr_nhbparI2sc1qeenqgo1_1280.jpg   0.347014   \n",
        "10000saints    http://41.media.tumblr.com/88e15c193cddb725f7aeb66a5cad9449/tumblr_mxazuxMODc1rm4wgqo2_1280.jpg   0.516319   \n",
        "\n",
        "                                                                                                                high_green  \\\n",
        "X              X.1                                                                                                           \n",
        "antoinebirot   http://41.media.tumblr.com/tumblr_mcac79Rwrz1rw2tuzo1_r1_1280.jpg                                  0.208703   \n",
        "aprill-showers http://40.media.tumblr.com/266b54f0a640f9e59f1f627f587032c3/tumblr_n2wm1sP4kE1ra1ki4o1_1280.jpg    0.236383   \n",
        "anna--draws    http://40.media.tumblr.com/c590f1db5324a69aedcdca10892a7fa4/tumblr_nnodxdanJ81s1o54ko1_1280.jpg    0.083480   \n",
        "997            http://41.media.tumblr.com/1a12ed7171b8607aeb0a03c9ef37854b/tumblr_nhbparI2sc1qeenqgo1_1280.jpg    0.035832   \n",
        "10000saints    http://41.media.tumblr.com/88e15c193cddb725f7aeb66a5cad9449/tumblr_mxazuxMODc1rm4wgqo2_1280.jpg    0.245036   \n",
        "\n",
        "                                                                                                                med_green  \\\n",
        "X              X.1                                                                                                          \n",
        "antoinebirot   http://41.media.tumblr.com/tumblr_mcac79Rwrz1rw2tuzo1_r1_1280.jpg                                 0.287517   \n",
        "aprill-showers http://40.media.tumblr.com/266b54f0a640f9e59f1f627f587032c3/tumblr_n2wm1sP4kE1ra1ki4o1_1280.jpg   0.690114   \n",
        "anna--draws    http://40.media.tumblr.com/c590f1db5324a69aedcdca10892a7fa4/tumblr_nnodxdanJ81s1o54ko1_1280.jpg   0.565602   \n",
        "997            http://41.media.tumblr.com/1a12ed7171b8607aeb0a03c9ef37854b/tumblr_nhbparI2sc1qeenqgo1_1280.jpg   0.531954   \n",
        "10000saints    http://41.media.tumblr.com/88e15c193cddb725f7aeb66a5cad9449/tumblr_mxazuxMODc1rm4wgqo2_1280.jpg   0.551501   \n",
        "\n",
        "                                                                                                                low_green  \\\n",
        "X              X.1                                                                                                          \n",
        "antoinebirot   http://41.media.tumblr.com/tumblr_mcac79Rwrz1rw2tuzo1_r1_1280.jpg                                 0.503780   \n",
        "aprill-showers http://40.media.tumblr.com/266b54f0a640f9e59f1f627f587032c3/tumblr_n2wm1sP4kE1ra1ki4o1_1280.jpg   0.073503   \n",
        "anna--draws    http://40.media.tumblr.com/c590f1db5324a69aedcdca10892a7fa4/tumblr_nnodxdanJ81s1o54ko1_1280.jpg   0.350917   \n",
        "997            http://41.media.tumblr.com/1a12ed7171b8607aeb0a03c9ef37854b/tumblr_nhbparI2sc1qeenqgo1_1280.jpg   0.432214   \n",
        "10000saints    http://41.media.tumblr.com/88e15c193cddb725f7aeb66a5cad9449/tumblr_mxazuxMODc1rm4wgqo2_1280.jpg   0.203464   \n",
        "\n",
        "                                                                                                                 avg_red  \\\n",
        "X              X.1                                                                                                         \n",
        "antoinebirot   http://41.media.tumblr.com/tumblr_mcac79Rwrz1rw2tuzo1_r1_1280.jpg                                0.418353   \n",
        "aprill-showers http://40.media.tumblr.com/266b54f0a640f9e59f1f627f587032c3/tumblr_n2wm1sP4kE1ra1ki4o1_1280.jpg  0.628665   \n",
        "anna--draws    http://40.media.tumblr.com/c590f1db5324a69aedcdca10892a7fa4/tumblr_nnodxdanJ81s1o54ko1_1280.jpg  0.386470   \n",
        "997            http://41.media.tumblr.com/1a12ed7171b8607aeb0a03c9ef37854b/tumblr_nhbparI2sc1qeenqgo1_1280.jpg  0.363870   \n",
        "10000saints    http://41.media.tumblr.com/88e15c193cddb725f7aeb66a5cad9449/tumblr_mxazuxMODc1rm4wgqo2_1280.jpg  0.628474   \n",
        "\n",
        "                                                                                                                high_red  \\\n",
        "X              X.1                                                                                                         \n",
        "antoinebirot   http://41.media.tumblr.com/tumblr_mcac79Rwrz1rw2tuzo1_r1_1280.jpg                                0.213254   \n",
        "aprill-showers http://40.media.tumblr.com/266b54f0a640f9e59f1f627f587032c3/tumblr_n2wm1sP4kE1ra1ki4o1_1280.jpg  0.458820   \n",
        "anna--draws    http://40.media.tumblr.com/c590f1db5324a69aedcdca10892a7fa4/tumblr_nnodxdanJ81s1o54ko1_1280.jpg  0.083480   \n",
        "997            http://41.media.tumblr.com/1a12ed7171b8607aeb0a03c9ef37854b/tumblr_nhbparI2sc1qeenqgo1_1280.jpg  0.120135   \n",
        "10000saints    http://41.media.tumblr.com/88e15c193cddb725f7aeb66a5cad9449/tumblr_mxazuxMODc1rm4wgqo2_1280.jpg  0.457866   \n",
        "\n",
        "                                                                                                                 med_red  \\\n",
        "X              X.1                                                                                                         \n",
        "antoinebirot   http://41.media.tumblr.com/tumblr_mcac79Rwrz1rw2tuzo1_r1_1280.jpg                                0.289302   \n",
        "aprill-showers http://40.media.tumblr.com/266b54f0a640f9e59f1f627f587032c3/tumblr_n2wm1sP4kE1ra1ki4o1_1280.jpg  0.446571   \n",
        "anna--draws    http://40.media.tumblr.com/c590f1db5324a69aedcdca10892a7fa4/tumblr_nnodxdanJ81s1o54ko1_1280.jpg  0.565602   \n",
        "997            http://41.media.tumblr.com/1a12ed7171b8607aeb0a03c9ef37854b/tumblr_nhbparI2sc1qeenqgo1_1280.jpg  0.400142   \n",
        "10000saints    http://41.media.tumblr.com/88e15c193cddb725f7aeb66a5cad9449/tumblr_mxazuxMODc1rm4wgqo2_1280.jpg  0.418434   \n",
        "\n",
        "                                                                                                                 low_red  \n",
        "X              X.1                                                                                                        \n",
        "antoinebirot   http://41.media.tumblr.com/tumblr_mcac79Rwrz1rw2tuzo1_r1_1280.jpg                                0.497444  \n",
        "aprill-showers http://40.media.tumblr.com/266b54f0a640f9e59f1f627f587032c3/tumblr_n2wm1sP4kE1ra1ki4o1_1280.jpg  0.094609  \n",
        "anna--draws    http://40.media.tumblr.com/c590f1db5324a69aedcdca10892a7fa4/tumblr_nnodxdanJ81s1o54ko1_1280.jpg  0.350917  \n",
        "997            http://41.media.tumblr.com/1a12ed7171b8607aeb0a03c9ef37854b/tumblr_nhbparI2sc1qeenqgo1_1280.jpg  0.479723  \n",
        "10000saints    http://41.media.tumblr.com/88e15c193cddb725f7aeb66a5cad9449/tumblr_mxazuxMODc1rm4wgqo2_1280.jpg  0.123700  \n",
        "\n",
        "[5 rows x 12 columns]"
       ]
      }
     ],
     "prompt_number": 34
    },
    {
     "cell_type": "code",
     "collapsed": false,
     "input": [
      "art.shape"
     ],
     "language": "python",
     "metadata": {},
     "outputs": [
      {
       "metadata": {},
       "output_type": "pyout",
       "prompt_number": 35,
       "text": [
        "(25355, 12)"
       ]
      }
     ],
     "prompt_number": 35
    },
    {
     "cell_type": "code",
     "collapsed": false,
     "input": [
      "# picking best value of k\n",
      "inertia = []\n",
      "for k in range(1,21):\n",
      "    k_test = KMeans(n_clusters=k)\n",
      "    k_test.fit(art)\n",
      "    inertia.append(k_test.inertia_)"
     ],
     "language": "python",
     "metadata": {},
     "outputs": [],
     "prompt_number": 36
    },
    {
     "cell_type": "code",
     "collapsed": false,
     "input": [
      "x = range(1,21)\n",
      "plt.plot(x, inertia)"
     ],
     "language": "python",
     "metadata": {},
     "outputs": [
      {
       "metadata": {},
       "output_type": "pyout",
       "prompt_number": 37,
       "text": [
        "[<matplotlib.lines.Line2D at 0x7f0a3c4cf9d0>]"
       ]
      },
      {
       "metadata": {},
       "output_type": "display_data",
       "png": "[encoded data removed]",
       "text": [
        "<matplotlib.figure.Figure at 0x7f0a3c615a90>"
       ]
      }
     ],
     "prompt_number": 37
    },
    {
     "cell_type": "code",
     "collapsed": false,
     "input": [
      "# run r means model\n",
      "k_means = KMeans(n_clusters=4)\n",
      "k_means.fit(art)"
     ],
     "language": "python",
     "metadata": {},
     "outputs": [
      {
       "metadata": {},
       "output_type": "pyout",
       "prompt_number": 43,
       "text": [
        "KMeans(copy_x=True, init='k-means++', max_iter=300, n_clusters=4, n_init=10,\n",
        "    n_jobs=1, precompute_distances='auto', random_state=None, tol=0.0001,\n",
        "    verbose=0)"
       ]
      }
     ],
     "prompt_number": 43
    },
    {
     "cell_type": "code",
     "collapsed": false,
     "input": [
      "# get the cluster centers for each of the features\n",
      "k_means.cluster_centers_\n"
     ],
     "language": "python",
     "metadata": {},
     "outputs": [
      {
       "metadata": {},
       "output_type": "pyout",
       "prompt_number": 44,
       "text": [
        "array([[ 0.81787173,  0.81153309,  0.11386453,  0.07460238,  0.83530442,\n",
        "         0.83153613,  0.10101123,  0.06745264,  0.85102296,  0.84762536,\n",
        "         0.09117818,  0.06119646],\n",
        "       [ 0.45423704,  0.15069308,  0.5673791 ,  0.28192782,  0.48776424,\n",
        "         0.18261999,  0.58536256,  0.23201745,  0.53142688,  0.27952294,\n",
        "         0.51217131,  0.20830576],\n",
        "       [ 0.27331883,  0.11000975,  0.21650743,  0.67348282,  0.28994191,\n",
        "         0.12409131,  0.23036527,  0.64554341,  0.32844529,  0.1701782 ,\n",
        "         0.23615659,  0.59366521],\n",
        "       [ 0.58672679,  0.43815357,  0.33618064,  0.22566579,  0.62685466,\n",
        "         0.52039566,  0.28654834,  0.193056  ,  0.6676914 ,  0.58471077,\n",
        "         0.2462858 ,  0.16900343]])"
       ]
      }
     ],
     "prompt_number": 44
    },
    {
     "cell_type": "code",
     "collapsed": false,
     "input": [
      "col = list(art.columns.values)\n",
      "# print col"
     ],
     "language": "python",
     "metadata": {},
     "outputs": [],
     "prompt_number": 45
    },
    {
     "cell_type": "code",
     "collapsed": false,
     "input": [
      "# plot the cluster centers \n",
      "\n",
      "x2 = range(1,13)\n",
      "\n",
      "y1 = k_means.cluster_centers_[0]\n",
      "y2 = k_means.cluster_centers_[1]\n",
      "y3 = k_means.cluster_centers_[2]\n",
      "y4 = k_means.cluster_centers_[3]\n",
      "# y5 = k_means.cluster_centers_[4]\n"
     ],
     "language": "python",
     "metadata": {},
     "outputs": [],
     "prompt_number": 46
    },
    {
     "cell_type": "code",
     "collapsed": false,
     "input": [
      "\n",
      "plt.plot(x2,y1)\n",
      "plt.plot(x2, y2, color = \"red\")\n",
      "plt.plot(x2, y3, color = \"green\")\n",
      "plt.plot(x2, y4, color = \"orange\")\n",
      "plt.xticks( x2, col )\n",
      "plt.xticks(rotation = 70)\n",
      "# plt.plot(x, y5, color = \"purple\")\n"
     ],
     "language": "python",
     "metadata": {},
     "outputs": [
      {
       "metadata": {},
       "output_type": "pyout",
       "prompt_number": 47,
       "text": [
        "(array([ 1,  2,  3,  4,  5,  6,  7,  8,  9, 10, 11, 12]),\n",
        " <a list of 12 Text xticklabel objects>)"
       ]
      },
      {
       "metadata": {},
       "output_type": "display_data",
       "png": "[encoded data removed]",
       "text": [
        "<matplotlib.figure.Figure at 0x7f0a3bba4190>"
       ]
      }
     ],
     "prompt_number": 47
    },
    {
     "cell_type": "code",
     "collapsed": false,
     "input": [
      "k_means.labels_"
     ],
     "language": "python",
     "metadata": {},
     "outputs": [
      {
       "metadata": {},
       "output_type": "pyout",
       "prompt_number": 48,
       "text": [
        "array([2, 1, 1, ..., 3, 1, 0], dtype=int32)"
       ]
      }
     ],
     "prompt_number": 48
    },
    {
     "cell_type": "code",
     "collapsed": false,
     "input": [
      "# get list indexs with of with level 0\n",
      "labels = k_means.labels_\n",
      "ii = np.where(labels == 0)[0]"
     ],
     "language": "python",
     "metadata": {},
     "outputs": [],
     "prompt_number": 49
    },
    {
     "cell_type": "code",
     "collapsed": false,
     "input": [
      "# load url\n",
      "url = \"http://40.media.tumblr.com/bae2ac17797e7eb78038834afa7754e9/tumblr_nhk0vpni6P1teo717o1_1280.jpg\"\n",
      "img = img_from_url(url)"
     ],
     "language": "python",
     "metadata": {},
     "outputs": [
      {
       "output_type": "stream",
       "stream": "stdout",
       "text": [
        "Now extracting features from artwork\n"
       ]
      }
     ],
     "prompt_number": 50
    },
    {
     "cell_type": "code",
     "collapsed": false,
     "input": [
      "print img"
     ],
     "language": "python",
     "metadata": {},
     "outputs": [
      {
       "output_type": "stream",
       "stream": "stdout",
       "text": [
        "[0.63277024089506984, 0.45553608425414366, 0.48365763121546962, 0.060806284530386744, 0.75648071038525055, 0.79441384668508286, 0.20058356353591161, 0.005002589779005525, 0.63882420647042037, 0.22375517955801105, 0.77230058701657456, 0.0039442334254143644]\n"
       ]
      }
     ],
     "prompt_number": 51
    },
    {
     "cell_type": "code",
     "collapsed": false,
     "input": [
      "# make predction for img\n",
      "predict = k_means.predict(img)\n",
      "print predict # which cluster does it belong to?\n",
      "cluster = predict[0]"
     ],
     "language": "python",
     "metadata": {},
     "outputs": [
      {
       "output_type": "stream",
       "stream": "stdout",
       "text": [
        "[3]\n"
       ]
      }
     ],
     "prompt_number": 52
    },
    {
     "cell_type": "code",
     "collapsed": false,
     "input": [
      "labels = k_means.labels_\n",
      "# subset dataframe to only include rows in the cluster\n",
      "indexes = np.where(labels == cluster)[0]\n",
      "art_subset = art.iloc[indexes]"
     ],
     "language": "python",
     "metadata": {},
     "outputs": [],
     "prompt_number": 53
    },
    {
     "cell_type": "code",
     "collapsed": false,
     "input": [
      "cluster_center = k_means.cluster_centers_[cluster]"
     ],
     "language": "python",
     "metadata": {},
     "outputs": [],
     "prompt_number": 54
    },
    {
     "cell_type": "code",
     "collapsed": false,
     "input": [
      " p = art_subset.iloc[0]\n",
      "p "
     ],
     "language": "python",
     "metadata": {},
     "outputs": [
      {
       "metadata": {},
       "output_type": "pyout",
       "prompt_number": 55,
       "text": [
        "avg_blue      0.529872\n",
        "high_blue     0.482437\n",
        "med_blue      0.184526\n",
        "low_blue      0.333037\n",
        "avg_green     0.559321\n",
        "high_green    0.617317\n",
        "med_green     0.052295\n",
        "low_green     0.330388\n",
        "avg_red       0.592501\n",
        "high_red      0.637510\n",
        "med_red       0.039990\n",
        "low_red       0.322500\n",
        "Name: (abominationdiary, http://40.media.tumblr.com/ac814254e1e5cf6df4a5d4c0517daf57/tumblr_nmgzhnX8Xz1tssc86o1_1280.jpg), dtype: float64"
       ]
      }
     ],
     "prompt_number": 55
    },
    {
     "cell_type": "code",
     "collapsed": false,
     "input": [
      "nrows = int(art_subset.shape[0])\n",
      "v = img\n",
      "\n",
      "# i = 1\n",
      "# row = list(art_subset.iloc[i])\n",
      "# print row\n",
      "# print img\n",
      "# sp.distance.euclidean(row,v)\n",
      "\n",
      "diff = []\n",
      "\n",
      "for i in range(0,nrows):\n",
      "    row = list(art_subset.iloc[i])\n",
      "    diff.append(sp.distance.euclidean(row,v))\n",
      "art_subset[\"diff\"] = diff\n",
      "# # calculate the euclidean distance from the img vector\n",
      "# def calc_diff(u):\n",
      "#     u = list(u)\n",
      "#     return sp.distance.euclidean(u,v)\n",
      "# art_subset[\"diff\"] =  art_subset.apply(func = calc_diff, axis =1, reduce = True)\n"
     ],
     "language": "python",
     "metadata": {},
     "outputs": [],
     "prompt_number": 56
    },
    {
     "cell_type": "code",
     "collapsed": false,
     "input": [
      "# sort and fint 5 closest\n",
      "df = art_subset.sort('diff').iloc[0:5]\n",
      "df.reset_index(inplace = True)\n",
      "artists = list(df['X'])\n",
      "art_urls = list(df['X.1'])\n",
      "# get urls they refer to"
     ],
     "language": "python",
     "metadata": {},
     "outputs": [],
     "prompt_number": 57
    },
    {
     "cell_type": "code",
     "collapsed": false,
     "input": [
      "art_urls"
     ],
     "language": "python",
     "metadata": {},
     "outputs": [
      {
       "metadata": {},
       "output_type": "pyout",
       "prompt_number": 58,
       "text": [
        "['http://40.media.tumblr.com/bae2ac17797e7eb78038834afa7754e9/tumblr_nhk0vpni6P1teo717o1_1280.jpg',\n",
        " 'http://41.media.tumblr.com/1f604ffd3567423642e900b2b5e743d9/tumblr_nl1s57xhdl1rt4xnho2_1280.jpg',\n",
        " 'http://41.media.tumblr.com/a99a3ba4d22362a3c0f0cc3f4d7b6c7d/tumblr_njnw0plDrx1qzq15oo1_1280.jpg',\n",
        " 'http://40.media.tumblr.com/tumblr_m9bk1fYs6q1qeju05o1_1280.jpg',\n",
        " 'http://41.media.tumblr.com/fbe1b863983825667f014c98557baa5b/tumblr_nnu2rd8CXE1qkxrtro1_1280.jpg']"
       ]
      }
     ],
     "prompt_number": 58
    },
    {
     "cell_type": "code",
     "collapsed": false,
     "input": [],
     "language": "python",
     "metadata": {},
     "outputs": []
    }
   ],
   "metadata": {}
  }
 ]
}