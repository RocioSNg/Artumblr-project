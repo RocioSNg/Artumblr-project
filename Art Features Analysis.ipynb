{
 "metadata": {
  "name": ""
 },
 "nbformat": 3,
 "nbformat_minor": 0,
 "worksheets": [
  {
   "cells": [
    {
     "cell_type": "code",
     "collapsed": false,
     "input": [
      "%matplotlib inline\n",
      "import csv\n",
      "import pandas as pd\n",
      "import numpy as np\n",
      "import matplotlib.pyplot as plt\n",
      "from sklearn.cluster import KMeans\n",
      "from sklearn.preprocessing import normalize\n",
      "from img_feature_extraction import img_from_url\n",
      "import scipy.spatial as sp\n"
     ],
     "language": "python",
     "metadata": {},
     "outputs": [],
     "prompt_number": 26
    },
    {
     "cell_type": "code",
     "collapsed": false,
     "input": [
      "art = pd.DataFrame.from_csv('data/artwork_features_test.csv', index_col= [0,1])\n"
     ],
     "language": "python",
     "metadata": {},
     "outputs": [],
     "prompt_number": 5
    },
    {
     "cell_type": "code",
     "collapsed": false,
     "input": [
      "art.head()"
     ],
     "language": "python",
     "metadata": {},
     "outputs": [
      {
       "html": [
        "<div style=\"max-height:1000px;max-width:1500px;overflow:auto;\">\n",
        "<table border=\"1\" class=\"dataframe\">\n",
        "  <thead>\n",
        "    <tr style=\"text-align: right;\">\n",
        "      <th></th>\n",
        "      <th></th>\n",
        "      <th>avg_blue</th>\n",
        "      <th>high_blue</th>\n",
        "      <th>med_blue</th>\n",
        "      <th>low_blue</th>\n",
        "      <th>avg_green</th>\n",
        "      <th>high_green</th>\n",
        "      <th>med_green</th>\n",
        "      <th>low_green</th>\n",
        "      <th>avg_red</th>\n",
        "      <th>high_red</th>\n",
        "      <th>med_red</th>\n",
        "      <th>low_red</th>\n",
        "      <th>avg_gray</th>\n",
        "      <th>high_gray</th>\n",
        "      <th>med_gray</th>\n",
        "      <th>low_gray</th>\n",
        "      <th>avg_l</th>\n",
        "      <th>high_l</th>\n",
        "      <th>med_l</th>\n",
        "      <th>low_l</th>\n",
        "      <th></th>\n",
        "    </tr>\n",
        "    <tr>\n",
        "      <th></th>\n",
        "      <th>Unnamed: 1</th>\n",
        "      <th></th>\n",
        "      <th></th>\n",
        "      <th></th>\n",
        "      <th></th>\n",
        "      <th></th>\n",
        "      <th></th>\n",
        "      <th></th>\n",
        "      <th></th>\n",
        "      <th></th>\n",
        "      <th></th>\n",
        "      <th></th>\n",
        "      <th></th>\n",
        "      <th></th>\n",
        "      <th></th>\n",
        "      <th></th>\n",
        "      <th></th>\n",
        "      <th></th>\n",
        "      <th></th>\n",
        "      <th></th>\n",
        "      <th></th>\n",
        "    </tr>\n",
        "  </thead>\n",
        "  <tbody>\n",
        "    <tr>\n",
        "      <th>1-681</th>\n",
        "      <th>http://40.media.tumblr.com/4ff949649b2b5889c0c741ffb105c8c0/tumblr_ne9rm4u9Ib1rma1hqo1_1280.jpg</th>\n",
        "      <td> 0.769806</td>\n",
        "      <td> 0.688344</td>\n",
        "      <td> 0.193272</td>\n",
        "      <td> 0.118384</td>\n",
        "      <td> 0.764103</td>\n",
        "      <td> 0.678195</td>\n",
        "      <td> 0.197998</td>\n",
        "      <td> 0.123807</td>\n",
        "      <td> 0.766170</td>\n",
        "      <td> 0.682125</td>\n",
        "      <td> 0.196271</td>\n",
        "      <td> 0.121604</td>\n",
        "      <td> 0.766693</td>\n",
        "      <td> 0.682888</td>\n",
        "      <td> 0.195847</td>\n",
        "      <td> 0.121265</td>\n",
        "      <td> 0.766170</td>\n",
        "      <td> 0.682125</td>\n",
        "      <td> 0.196271</td>\n",
        "      <td> 0.121604</td>\n",
        "    </tr>\n",
        "    <tr>\n",
        "      <th>100taur</th>\n",
        "      <th>http://41.media.tumblr.com/fb070581e64457555a51ef9f85d15347/tumblr_npj8jyF0vj1rgdqsno1_1280.jpg</th>\n",
        "      <td> 0.368579</td>\n",
        "      <td> 0.088746</td>\n",
        "      <td> 0.455290</td>\n",
        "      <td> 0.455964</td>\n",
        "      <td> 0.391494</td>\n",
        "      <td> 0.114962</td>\n",
        "      <td> 0.441623</td>\n",
        "      <td> 0.443414</td>\n",
        "      <td> 0.377093</td>\n",
        "      <td> 0.140769</td>\n",
        "      <td> 0.396269</td>\n",
        "      <td> 0.462962</td>\n",
        "      <td> 0.379055</td>\n",
        "      <td> 0.114826</td>\n",
        "      <td> 0.431061</td>\n",
        "      <td> 0.454114</td>\n",
        "      <td> 0.377093</td>\n",
        "      <td> 0.140769</td>\n",
        "      <td> 0.396269</td>\n",
        "      <td> 0.462962</td>\n",
        "    </tr>\n",
        "    <tr>\n",
        "      <th>10orioart</th>\n",
        "      <th>http://40.media.tumblr.com/9698e53e715305fcc9794ed423663ad3/tumblr_noxgg2hafF1t1038go1_1280.jpg</th>\n",
        "      <td> 0.249963</td>\n",
        "      <td> 0.000057</td>\n",
        "      <td> 0.557772</td>\n",
        "      <td> 0.442171</td>\n",
        "      <td> 0.331738</td>\n",
        "      <td> 0.000500</td>\n",
        "      <td> 0.712056</td>\n",
        "      <td> 0.287444</td>\n",
        "      <td> 0.372379</td>\n",
        "      <td> 0.002663</td>\n",
        "      <td> 0.729254</td>\n",
        "      <td> 0.268082</td>\n",
        "      <td> 0.318027</td>\n",
        "      <td> 0.001073</td>\n",
        "      <td> 0.666361</td>\n",
        "      <td> 0.332566</td>\n",
        "      <td> 0.372379</td>\n",
        "      <td> 0.002663</td>\n",
        "      <td> 0.729254</td>\n",
        "      <td> 0.268082</td>\n",
        "    </tr>\n",
        "    <tr>\n",
        "      <th>0rpheus</th>\n",
        "      <th>http://40.media.tumblr.com/tumblr_m9fzjww9oo1qf0eyqo1_1280.jpg</th>\n",
        "      <td> 0.333558</td>\n",
        "      <td> 0.008366</td>\n",
        "      <td> 0.653423</td>\n",
        "      <td> 0.338211</td>\n",
        "      <td> 0.403003</td>\n",
        "      <td> 0.024019</td>\n",
        "      <td> 0.709079</td>\n",
        "      <td> 0.266902</td>\n",
        "      <td> 0.467304</td>\n",
        "      <td> 0.157041</td>\n",
        "      <td> 0.594272</td>\n",
        "      <td> 0.248686</td>\n",
        "      <td> 0.401288</td>\n",
        "      <td> 0.063142</td>\n",
        "      <td> 0.652258</td>\n",
        "      <td> 0.284600</td>\n",
        "      <td> 0.467304</td>\n",
        "      <td> 0.157041</td>\n",
        "      <td> 0.594272</td>\n",
        "      <td> 0.248686</td>\n",
        "    </tr>\n",
        "    <tr>\n",
        "      <th>1000scientists</th>\n",
        "      <th>http://41.media.tumblr.com/ae09430c50effc8d2240ee3b9ec0132c/tumblr_mpnmv1tQNt1qa6hruo1_1280.jpg</th>\n",
        "      <td> 0.384384</td>\n",
        "      <td> 0.289747</td>\n",
        "      <td> 0.129810</td>\n",
        "      <td> 0.580443</td>\n",
        "      <td> 0.368052</td>\n",
        "      <td> 0.230152</td>\n",
        "      <td> 0.198803</td>\n",
        "      <td> 0.571046</td>\n",
        "      <td> 0.358938</td>\n",
        "      <td> 0.229769</td>\n",
        "      <td> 0.211240</td>\n",
        "      <td> 0.558991</td>\n",
        "      <td> 0.370458</td>\n",
        "      <td> 0.249889</td>\n",
        "      <td> 0.179951</td>\n",
        "      <td> 0.570160</td>\n",
        "      <td> 0.358938</td>\n",
        "      <td> 0.229769</td>\n",
        "      <td> 0.211240</td>\n",
        "      <td> 0.558991</td>\n",
        "    </tr>\n",
        "  </tbody>\n",
        "</table>\n",
        "<p>5 rows \u00d7 32 columns</p>\n",
        "</div>"
       ],
       "metadata": {},
       "output_type": "pyout",
       "prompt_number": 6,
       "text": [
        "                                                                                                                avg_blue  \\\n",
        "               Unnamed: 1                                                                                                  \n",
        "1-681          http://40.media.tumblr.com/4ff949649b2b5889c0c741ffb105c8c0/tumblr_ne9rm4u9Ib1rma1hqo1_1280.jpg  0.769806   \n",
        "100taur        http://41.media.tumblr.com/fb070581e64457555a51ef9f85d15347/tumblr_npj8jyF0vj1rgdqsno1_1280.jpg  0.368579   \n",
        "10orioart      http://40.media.tumblr.com/9698e53e715305fcc9794ed423663ad3/tumblr_noxgg2hafF1t1038go1_1280.jpg  0.249963   \n",
        "0rpheus        http://40.media.tumblr.com/tumblr_m9fzjww9oo1qf0eyqo1_1280.jpg                                   0.333558   \n",
        "1000scientists http://41.media.tumblr.com/ae09430c50effc8d2240ee3b9ec0132c/tumblr_mpnmv1tQNt1qa6hruo1_1280.jpg  0.384384   \n",
        "\n",
        "                                                                                                                high_blue  \\\n",
        "               Unnamed: 1                                                                                                   \n",
        "1-681          http://40.media.tumblr.com/4ff949649b2b5889c0c741ffb105c8c0/tumblr_ne9rm4u9Ib1rma1hqo1_1280.jpg   0.688344   \n",
        "100taur        http://41.media.tumblr.com/fb070581e64457555a51ef9f85d15347/tumblr_npj8jyF0vj1rgdqsno1_1280.jpg   0.088746   \n",
        "10orioart      http://40.media.tumblr.com/9698e53e715305fcc9794ed423663ad3/tumblr_noxgg2hafF1t1038go1_1280.jpg   0.000057   \n",
        "0rpheus        http://40.media.tumblr.com/tumblr_m9fzjww9oo1qf0eyqo1_1280.jpg                                    0.008366   \n",
        "1000scientists http://41.media.tumblr.com/ae09430c50effc8d2240ee3b9ec0132c/tumblr_mpnmv1tQNt1qa6hruo1_1280.jpg   0.289747   \n",
        "\n",
        "                                                                                                                med_blue  \\\n",
        "               Unnamed: 1                                                                                                  \n",
        "1-681          http://40.media.tumblr.com/4ff949649b2b5889c0c741ffb105c8c0/tumblr_ne9rm4u9Ib1rma1hqo1_1280.jpg  0.193272   \n",
        "100taur        http://41.media.tumblr.com/fb070581e64457555a51ef9f85d15347/tumblr_npj8jyF0vj1rgdqsno1_1280.jpg  0.455290   \n",
        "10orioart      http://40.media.tumblr.com/9698e53e715305fcc9794ed423663ad3/tumblr_noxgg2hafF1t1038go1_1280.jpg  0.557772   \n",
        "0rpheus        http://40.media.tumblr.com/tumblr_m9fzjww9oo1qf0eyqo1_1280.jpg                                   0.653423   \n",
        "1000scientists http://41.media.tumblr.com/ae09430c50effc8d2240ee3b9ec0132c/tumblr_mpnmv1tQNt1qa6hruo1_1280.jpg  0.129810   \n",
        "\n",
        "                                                                                                                low_blue  \\\n",
        "               Unnamed: 1                                                                                                  \n",
        "1-681          http://40.media.tumblr.com/4ff949649b2b5889c0c741ffb105c8c0/tumblr_ne9rm4u9Ib1rma1hqo1_1280.jpg  0.118384   \n",
        "100taur        http://41.media.tumblr.com/fb070581e64457555a51ef9f85d15347/tumblr_npj8jyF0vj1rgdqsno1_1280.jpg  0.455964   \n",
        "10orioart      http://40.media.tumblr.com/9698e53e715305fcc9794ed423663ad3/tumblr_noxgg2hafF1t1038go1_1280.jpg  0.442171   \n",
        "0rpheus        http://40.media.tumblr.com/tumblr_m9fzjww9oo1qf0eyqo1_1280.jpg                                   0.338211   \n",
        "1000scientists http://41.media.tumblr.com/ae09430c50effc8d2240ee3b9ec0132c/tumblr_mpnmv1tQNt1qa6hruo1_1280.jpg  0.580443   \n",
        "\n",
        "                                                                                                                avg_green  \\\n",
        "               Unnamed: 1                                                                                                   \n",
        "1-681          http://40.media.tumblr.com/4ff949649b2b5889c0c741ffb105c8c0/tumblr_ne9rm4u9Ib1rma1hqo1_1280.jpg   0.764103   \n",
        "100taur        http://41.media.tumblr.com/fb070581e64457555a51ef9f85d15347/tumblr_npj8jyF0vj1rgdqsno1_1280.jpg   0.391494   \n",
        "10orioart      http://40.media.tumblr.com/9698e53e715305fcc9794ed423663ad3/tumblr_noxgg2hafF1t1038go1_1280.jpg   0.331738   \n",
        "0rpheus        http://40.media.tumblr.com/tumblr_m9fzjww9oo1qf0eyqo1_1280.jpg                                    0.403003   \n",
        "1000scientists http://41.media.tumblr.com/ae09430c50effc8d2240ee3b9ec0132c/tumblr_mpnmv1tQNt1qa6hruo1_1280.jpg   0.368052   \n",
        "\n",
        "                                                                                                                high_green  \\\n",
        "               Unnamed: 1                                                                                                    \n",
        "1-681          http://40.media.tumblr.com/4ff949649b2b5889c0c741ffb105c8c0/tumblr_ne9rm4u9Ib1rma1hqo1_1280.jpg    0.678195   \n",
        "100taur        http://41.media.tumblr.com/fb070581e64457555a51ef9f85d15347/tumblr_npj8jyF0vj1rgdqsno1_1280.jpg    0.114962   \n",
        "10orioart      http://40.media.tumblr.com/9698e53e715305fcc9794ed423663ad3/tumblr_noxgg2hafF1t1038go1_1280.jpg    0.000500   \n",
        "0rpheus        http://40.media.tumblr.com/tumblr_m9fzjww9oo1qf0eyqo1_1280.jpg                                     0.024019   \n",
        "1000scientists http://41.media.tumblr.com/ae09430c50effc8d2240ee3b9ec0132c/tumblr_mpnmv1tQNt1qa6hruo1_1280.jpg    0.230152   \n",
        "\n",
        "                                                                                                                med_green  \\\n",
        "               Unnamed: 1                                                                                                   \n",
        "1-681          http://40.media.tumblr.com/4ff949649b2b5889c0c741ffb105c8c0/tumblr_ne9rm4u9Ib1rma1hqo1_1280.jpg   0.197998   \n",
        "100taur        http://41.media.tumblr.com/fb070581e64457555a51ef9f85d15347/tumblr_npj8jyF0vj1rgdqsno1_1280.jpg   0.441623   \n",
        "10orioart      http://40.media.tumblr.com/9698e53e715305fcc9794ed423663ad3/tumblr_noxgg2hafF1t1038go1_1280.jpg   0.712056   \n",
        "0rpheus        http://40.media.tumblr.com/tumblr_m9fzjww9oo1qf0eyqo1_1280.jpg                                    0.709079   \n",
        "1000scientists http://41.media.tumblr.com/ae09430c50effc8d2240ee3b9ec0132c/tumblr_mpnmv1tQNt1qa6hruo1_1280.jpg   0.198803   \n",
        "\n",
        "                                                                                                                low_green  \\\n",
        "               Unnamed: 1                                                                                                   \n",
        "1-681          http://40.media.tumblr.com/4ff949649b2b5889c0c741ffb105c8c0/tumblr_ne9rm4u9Ib1rma1hqo1_1280.jpg   0.123807   \n",
        "100taur        http://41.media.tumblr.com/fb070581e64457555a51ef9f85d15347/tumblr_npj8jyF0vj1rgdqsno1_1280.jpg   0.443414   \n",
        "10orioart      http://40.media.tumblr.com/9698e53e715305fcc9794ed423663ad3/tumblr_noxgg2hafF1t1038go1_1280.jpg   0.287444   \n",
        "0rpheus        http://40.media.tumblr.com/tumblr_m9fzjww9oo1qf0eyqo1_1280.jpg                                    0.266902   \n",
        "1000scientists http://41.media.tumblr.com/ae09430c50effc8d2240ee3b9ec0132c/tumblr_mpnmv1tQNt1qa6hruo1_1280.jpg   0.571046   \n",
        "\n",
        "                                                                                                                 avg_red  \\\n",
        "               Unnamed: 1                                                                                                  \n",
        "1-681          http://40.media.tumblr.com/4ff949649b2b5889c0c741ffb105c8c0/tumblr_ne9rm4u9Ib1rma1hqo1_1280.jpg  0.766170   \n",
        "100taur        http://41.media.tumblr.com/fb070581e64457555a51ef9f85d15347/tumblr_npj8jyF0vj1rgdqsno1_1280.jpg  0.377093   \n",
        "10orioart      http://40.media.tumblr.com/9698e53e715305fcc9794ed423663ad3/tumblr_noxgg2hafF1t1038go1_1280.jpg  0.372379   \n",
        "0rpheus        http://40.media.tumblr.com/tumblr_m9fzjww9oo1qf0eyqo1_1280.jpg                                   0.467304   \n",
        "1000scientists http://41.media.tumblr.com/ae09430c50effc8d2240ee3b9ec0132c/tumblr_mpnmv1tQNt1qa6hruo1_1280.jpg  0.358938   \n",
        "\n",
        "                                                                                                                high_red  \\\n",
        "               Unnamed: 1                                                                                                  \n",
        "1-681          http://40.media.tumblr.com/4ff949649b2b5889c0c741ffb105c8c0/tumblr_ne9rm4u9Ib1rma1hqo1_1280.jpg  0.682125   \n",
        "100taur        http://41.media.tumblr.com/fb070581e64457555a51ef9f85d15347/tumblr_npj8jyF0vj1rgdqsno1_1280.jpg  0.140769   \n",
        "10orioart      http://40.media.tumblr.com/9698e53e715305fcc9794ed423663ad3/tumblr_noxgg2hafF1t1038go1_1280.jpg  0.002663   \n",
        "0rpheus        http://40.media.tumblr.com/tumblr_m9fzjww9oo1qf0eyqo1_1280.jpg                                   0.157041   \n",
        "1000scientists http://41.media.tumblr.com/ae09430c50effc8d2240ee3b9ec0132c/tumblr_mpnmv1tQNt1qa6hruo1_1280.jpg  0.229769   \n",
        "\n",
        "                                                                                                                 med_red  \\\n",
        "               Unnamed: 1                                                                                                  \n",
        "1-681          http://40.media.tumblr.com/4ff949649b2b5889c0c741ffb105c8c0/tumblr_ne9rm4u9Ib1rma1hqo1_1280.jpg  0.196271   \n",
        "100taur        http://41.media.tumblr.com/fb070581e64457555a51ef9f85d15347/tumblr_npj8jyF0vj1rgdqsno1_1280.jpg  0.396269   \n",
        "10orioart      http://40.media.tumblr.com/9698e53e715305fcc9794ed423663ad3/tumblr_noxgg2hafF1t1038go1_1280.jpg  0.729254   \n",
        "0rpheus        http://40.media.tumblr.com/tumblr_m9fzjww9oo1qf0eyqo1_1280.jpg                                   0.594272   \n",
        "1000scientists http://41.media.tumblr.com/ae09430c50effc8d2240ee3b9ec0132c/tumblr_mpnmv1tQNt1qa6hruo1_1280.jpg  0.211240   \n",
        "\n",
        "                                                                                                                 low_red  \\\n",
        "               Unnamed: 1                                                                                                  \n",
        "1-681          http://40.media.tumblr.com/4ff949649b2b5889c0c741ffb105c8c0/tumblr_ne9rm4u9Ib1rma1hqo1_1280.jpg  0.121604   \n",
        "100taur        http://41.media.tumblr.com/fb070581e64457555a51ef9f85d15347/tumblr_npj8jyF0vj1rgdqsno1_1280.jpg  0.462962   \n",
        "10orioart      http://40.media.tumblr.com/9698e53e715305fcc9794ed423663ad3/tumblr_noxgg2hafF1t1038go1_1280.jpg  0.268082   \n",
        "0rpheus        http://40.media.tumblr.com/tumblr_m9fzjww9oo1qf0eyqo1_1280.jpg                                   0.248686   \n",
        "1000scientists http://41.media.tumblr.com/ae09430c50effc8d2240ee3b9ec0132c/tumblr_mpnmv1tQNt1qa6hruo1_1280.jpg  0.558991   \n",
        "\n",
        "                                                                                                                avg_gray  \\\n",
        "               Unnamed: 1                                                                                                  \n",
        "1-681          http://40.media.tumblr.com/4ff949649b2b5889c0c741ffb105c8c0/tumblr_ne9rm4u9Ib1rma1hqo1_1280.jpg  0.766693   \n",
        "100taur        http://41.media.tumblr.com/fb070581e64457555a51ef9f85d15347/tumblr_npj8jyF0vj1rgdqsno1_1280.jpg  0.379055   \n",
        "10orioart      http://40.media.tumblr.com/9698e53e715305fcc9794ed423663ad3/tumblr_noxgg2hafF1t1038go1_1280.jpg  0.318027   \n",
        "0rpheus        http://40.media.tumblr.com/tumblr_m9fzjww9oo1qf0eyqo1_1280.jpg                                   0.401288   \n",
        "1000scientists http://41.media.tumblr.com/ae09430c50effc8d2240ee3b9ec0132c/tumblr_mpnmv1tQNt1qa6hruo1_1280.jpg  0.370458   \n",
        "\n",
        "                                                                                                                high_gray  \\\n",
        "               Unnamed: 1                                                                                                   \n",
        "1-681          http://40.media.tumblr.com/4ff949649b2b5889c0c741ffb105c8c0/tumblr_ne9rm4u9Ib1rma1hqo1_1280.jpg   0.682888   \n",
        "100taur        http://41.media.tumblr.com/fb070581e64457555a51ef9f85d15347/tumblr_npj8jyF0vj1rgdqsno1_1280.jpg   0.114826   \n",
        "10orioart      http://40.media.tumblr.com/9698e53e715305fcc9794ed423663ad3/tumblr_noxgg2hafF1t1038go1_1280.jpg   0.001073   \n",
        "0rpheus        http://40.media.tumblr.com/tumblr_m9fzjww9oo1qf0eyqo1_1280.jpg                                    0.063142   \n",
        "1000scientists http://41.media.tumblr.com/ae09430c50effc8d2240ee3b9ec0132c/tumblr_mpnmv1tQNt1qa6hruo1_1280.jpg   0.249889   \n",
        "\n",
        "                                                                                                                med_gray  \\\n",
        "               Unnamed: 1                                                                                                  \n",
        "1-681          http://40.media.tumblr.com/4ff949649b2b5889c0c741ffb105c8c0/tumblr_ne9rm4u9Ib1rma1hqo1_1280.jpg  0.195847   \n",
        "100taur        http://41.media.tumblr.com/fb070581e64457555a51ef9f85d15347/tumblr_npj8jyF0vj1rgdqsno1_1280.jpg  0.431061   \n",
        "10orioart      http://40.media.tumblr.com/9698e53e715305fcc9794ed423663ad3/tumblr_noxgg2hafF1t1038go1_1280.jpg  0.666361   \n",
        "0rpheus        http://40.media.tumblr.com/tumblr_m9fzjww9oo1qf0eyqo1_1280.jpg                                   0.652258   \n",
        "1000scientists http://41.media.tumblr.com/ae09430c50effc8d2240ee3b9ec0132c/tumblr_mpnmv1tQNt1qa6hruo1_1280.jpg  0.179951   \n",
        "\n",
        "                                                                                                                low_gray  \\\n",
        "               Unnamed: 1                                                                                                  \n",
        "1-681          http://40.media.tumblr.com/4ff949649b2b5889c0c741ffb105c8c0/tumblr_ne9rm4u9Ib1rma1hqo1_1280.jpg  0.121265   \n",
        "100taur        http://41.media.tumblr.com/fb070581e64457555a51ef9f85d15347/tumblr_npj8jyF0vj1rgdqsno1_1280.jpg  0.454114   \n",
        "10orioart      http://40.media.tumblr.com/9698e53e715305fcc9794ed423663ad3/tumblr_noxgg2hafF1t1038go1_1280.jpg  0.332566   \n",
        "0rpheus        http://40.media.tumblr.com/tumblr_m9fzjww9oo1qf0eyqo1_1280.jpg                                   0.284600   \n",
        "1000scientists http://41.media.tumblr.com/ae09430c50effc8d2240ee3b9ec0132c/tumblr_mpnmv1tQNt1qa6hruo1_1280.jpg  0.570160   \n",
        "\n",
        "                                                                                                                   avg_l  \\\n",
        "               Unnamed: 1                                                                                                  \n",
        "1-681          http://40.media.tumblr.com/4ff949649b2b5889c0c741ffb105c8c0/tumblr_ne9rm4u9Ib1rma1hqo1_1280.jpg  0.766170   \n",
        "100taur        http://41.media.tumblr.com/fb070581e64457555a51ef9f85d15347/tumblr_npj8jyF0vj1rgdqsno1_1280.jpg  0.377093   \n",
        "10orioart      http://40.media.tumblr.com/9698e53e715305fcc9794ed423663ad3/tumblr_noxgg2hafF1t1038go1_1280.jpg  0.372379   \n",
        "0rpheus        http://40.media.tumblr.com/tumblr_m9fzjww9oo1qf0eyqo1_1280.jpg                                   0.467304   \n",
        "1000scientists http://41.media.tumblr.com/ae09430c50effc8d2240ee3b9ec0132c/tumblr_mpnmv1tQNt1qa6hruo1_1280.jpg  0.358938   \n",
        "\n",
        "                                                                                                                  high_l  \\\n",
        "               Unnamed: 1                                                                                                  \n",
        "1-681          http://40.media.tumblr.com/4ff949649b2b5889c0c741ffb105c8c0/tumblr_ne9rm4u9Ib1rma1hqo1_1280.jpg  0.682125   \n",
        "100taur        http://41.media.tumblr.com/fb070581e64457555a51ef9f85d15347/tumblr_npj8jyF0vj1rgdqsno1_1280.jpg  0.140769   \n",
        "10orioart      http://40.media.tumblr.com/9698e53e715305fcc9794ed423663ad3/tumblr_noxgg2hafF1t1038go1_1280.jpg  0.002663   \n",
        "0rpheus        http://40.media.tumblr.com/tumblr_m9fzjww9oo1qf0eyqo1_1280.jpg                                   0.157041   \n",
        "1000scientists http://41.media.tumblr.com/ae09430c50effc8d2240ee3b9ec0132c/tumblr_mpnmv1tQNt1qa6hruo1_1280.jpg  0.229769   \n",
        "\n",
        "                                                                                                                   med_l  \\\n",
        "               Unnamed: 1                                                                                                  \n",
        "1-681          http://40.media.tumblr.com/4ff949649b2b5889c0c741ffb105c8c0/tumblr_ne9rm4u9Ib1rma1hqo1_1280.jpg  0.196271   \n",
        "100taur        http://41.media.tumblr.com/fb070581e64457555a51ef9f85d15347/tumblr_npj8jyF0vj1rgdqsno1_1280.jpg  0.396269   \n",
        "10orioart      http://40.media.tumblr.com/9698e53e715305fcc9794ed423663ad3/tumblr_noxgg2hafF1t1038go1_1280.jpg  0.729254   \n",
        "0rpheus        http://40.media.tumblr.com/tumblr_m9fzjww9oo1qf0eyqo1_1280.jpg                                   0.594272   \n",
        "1000scientists http://41.media.tumblr.com/ae09430c50effc8d2240ee3b9ec0132c/tumblr_mpnmv1tQNt1qa6hruo1_1280.jpg  0.211240   \n",
        "\n",
        "                                                                                                                   low_l  \\\n",
        "               Unnamed: 1                                                                                                  \n",
        "1-681          http://40.media.tumblr.com/4ff949649b2b5889c0c741ffb105c8c0/tumblr_ne9rm4u9Ib1rma1hqo1_1280.jpg  0.121604   \n",
        "100taur        http://41.media.tumblr.com/fb070581e64457555a51ef9f85d15347/tumblr_npj8jyF0vj1rgdqsno1_1280.jpg  0.462962   \n",
        "10orioart      http://40.media.tumblr.com/9698e53e715305fcc9794ed423663ad3/tumblr_noxgg2hafF1t1038go1_1280.jpg  0.268082   \n",
        "0rpheus        http://40.media.tumblr.com/tumblr_m9fzjww9oo1qf0eyqo1_1280.jpg                                   0.248686   \n",
        "1000scientists http://41.media.tumblr.com/ae09430c50effc8d2240ee3b9ec0132c/tumblr_mpnmv1tQNt1qa6hruo1_1280.jpg  0.558991   \n",
        "\n",
        "                                                                                                                    \n",
        "               Unnamed: 1                                                                                           \n",
        "1-681          http://40.media.tumblr.com/4ff949649b2b5889c0c741ffb105c8c0/tumblr_ne9rm4u9Ib1rma1hqo1_1280.jpg ...  \n",
        "100taur        http://41.media.tumblr.com/fb070581e64457555a51ef9f85d15347/tumblr_npj8jyF0vj1rgdqsno1_1280.jpg ...  \n",
        "10orioart      http://40.media.tumblr.com/9698e53e715305fcc9794ed423663ad3/tumblr_noxgg2hafF1t1038go1_1280.jpg ...  \n",
        "0rpheus        http://40.media.tumblr.com/tumblr_m9fzjww9oo1qf0eyqo1_1280.jpg                                  ...  \n",
        "1000scientists http://41.media.tumblr.com/ae09430c50effc8d2240ee3b9ec0132c/tumblr_mpnmv1tQNt1qa6hruo1_1280.jpg ...  \n",
        "\n",
        "[5 rows x 32 columns]"
       ]
      }
     ],
     "prompt_number": 6
    },
    {
     "cell_type": "code",
     "collapsed": false,
     "input": [
      "art.shape"
     ],
     "language": "python",
     "metadata": {},
     "outputs": [
      {
       "metadata": {},
       "output_type": "pyout",
       "prompt_number": 7,
       "text": [
        "(174, 32)"
       ]
      }
     ],
     "prompt_number": 7
    },
    {
     "cell_type": "code",
     "collapsed": false,
     "input": [
      "art_normal = normalize(art, norm='l2', axis=1, copy=True)\n",
      "art_normal"
     ],
     "language": "python",
     "metadata": {},
     "outputs": [
      {
       "metadata": {},
       "output_type": "pyout",
       "prompt_number": 29,
       "text": [
        "array([[  2.82269566e-04,   2.52399365e-04,   7.08684043e-05, ...,\n",
        "          4.26444616e-01,   3.89776979e-01,   4.01170852e-04],\n",
        "       [  1.51291794e-04,   3.64280009e-05,   1.86884489e-04, ...,\n",
        "          4.47416343e-01,   3.67784443e-01,   4.99348597e-04],\n",
        "       [  5.82878456e-04,   1.33596149e-07,   1.30064555e-03, ...,\n",
        "          5.50318971e-01,   2.47177165e-01,   5.19168841e-03],\n",
        "       ..., \n",
        "       [  3.43523501e-04,   3.09434287e-04,   1.15817025e-04, ...,\n",
        "          4.10632856e-01,   4.05858055e-01,   6.90139253e-04],\n",
        "       [  1.61748312e-03,   1.57184218e-03,   2.36301504e-04, ...,\n",
        "          4.52464675e-01,   3.62355184e-01,   2.39399299e-03],\n",
        "       [  2.48323836e-04,   2.02999192e-04,   1.29903652e-04, ...,\n",
        "          4.66654341e-01,   3.46909076e-01,   7.89601254e-04]])"
       ]
      }
     ],
     "prompt_number": 29
    },
    {
     "cell_type": "code",
     "collapsed": false,
     "input": [
      "# picking best value of k\n",
      "inertia = []\n",
      "for k in range(1,21):\n",
      "    k_test = KMeans(n_clusters=k)\n",
      "    k_test.fit(art)\n",
      "    inertia.append(k_test.inertia_)"
     ],
     "language": "python",
     "metadata": {},
     "outputs": [],
     "prompt_number": 8
    },
    {
     "cell_type": "code",
     "collapsed": false,
     "input": [
      "x = range(1,21)\n",
      "plt.plot(x, inertia)"
     ],
     "language": "python",
     "metadata": {},
     "outputs": [
      {
       "metadata": {},
       "output_type": "pyout",
       "prompt_number": 19,
       "text": [
        "[<matplotlib.lines.Line2D at 0x7f42077c5b10>]"
       ]
      },
      {
       "metadata": {},
       "output_type": "display_data",
       "png": "[encoded data removed]",
       "text": [
        "<matplotlib.figure.Figure at 0x7f424d117b10>"
       ]
      }
     ],
     "prompt_number": 19
    },
    {
     "cell_type": "code",
     "collapsed": false,
     "input": [
      "# run r means model\n",
      "k_means = KMeans(n_clusters=4)\n",
      "k_means.fit(art_normal)\n",
      "# dir(k_means)"
     ],
     "language": "python",
     "metadata": {},
     "outputs": [
      {
       "metadata": {},
       "output_type": "pyout",
       "prompt_number": 36,
       "text": [
        "KMeans(copy_x=True, init='k-means++', max_iter=300, n_clusters=4, n_init=10,\n",
        "    n_jobs=1, precompute_distances='auto', random_state=None, tol=0.0001,\n",
        "    verbose=0)"
       ]
      }
     ],
     "prompt_number": 36
    },
    {
     "cell_type": "code",
     "collapsed": false,
     "input": [
      "# get the cluster centers for each of the features\n",
      "k_means.cluster_centers_\n"
     ],
     "language": "python",
     "metadata": {},
     "outputs": [
      {
       "metadata": {},
       "output_type": "pyout",
       "prompt_number": 37,
       "text": [
        "array([[  9.87713014e-04,   4.25105535e-04,   1.64221649e-03,\n",
        "          7.11143094e-04,   1.94104322e-03,   2.05455587e-03,\n",
        "          1.60671819e-04,   5.63237428e-04,   1.97733975e-03,\n",
        "          2.07664580e-03,   1.39812433e-04,   5.62006891e-04,\n",
        "          1.63536533e-03,   1.51876907e-03,   6.47566914e-04,\n",
        "          6.12129138e-04,   1.97733975e-03,   2.07664580e-03,\n",
        "          1.39812433e-04,   5.62006891e-04,   1.94104322e-03,\n",
        "          2.05455587e-03,   1.60671819e-04,   5.63237428e-04,\n",
        "          9.87713014e-04,   4.25105535e-04,   1.64221649e-03,\n",
        "          7.11143094e-04,   7.50126062e-01,   1.05587649e-01,\n",
        "          6.44538412e-01,   6.19788175e-04],\n",
        "       [  7.42490655e-04,   5.76530613e-04,   3.62680763e-04,\n",
        "          2.94425610e-04,   7.95311049e-04,   6.29994233e-04,\n",
        "          3.72661868e-04,   2.30980884e-04,   8.52098256e-04,\n",
        "          7.37978516e-04,   2.87121654e-04,   2.08536816e-04,\n",
        "          7.96633320e-04,   6.48167787e-04,   3.40821428e-04,\n",
        "          2.44647770e-04,   8.52098256e-04,   7.37978516e-04,\n",
        "          2.87121654e-04,   2.08536816e-04,   7.95311049e-04,\n",
        "          6.29994233e-04,   3.72661868e-04,   2.30980884e-04,\n",
        "          7.42490655e-04,   5.76530613e-04,   3.62680763e-04,\n",
        "          2.94425610e-04,   8.14763512e-01,   4.37709844e-01,\n",
        "          3.77053669e-01,   1.45172678e-03],\n",
        "       [  1.11456149e-03,   7.93357923e-04,   7.35737889e-04,\n",
        "          4.87230972e-04,   1.18846344e-03,   8.26101494e-04,\n",
        "          7.93128273e-04,   3.97097017e-04,   1.35999074e-03,\n",
        "          1.22367093e-03,   5.23158352e-04,   2.69497505e-04,\n",
        "          1.22100522e-03,   9.47710115e-04,   6.84008171e-04,\n",
        "          3.84608498e-04,   1.35999074e-03,   1.22367093e-03,\n",
        "          5.23158352e-04,   2.69497505e-04,   1.18846344e-03,\n",
        "          8.26101494e-04,   7.93128273e-04,   3.97097017e-04,\n",
        "          1.11456149e-03,   7.93357923e-04,   7.35737889e-04,\n",
        "          4.87230972e-04,   7.97278287e-01,   5.44401589e-01,\n",
        "          2.52876698e-01,   4.77974614e-03],\n",
        "       [  8.28342455e-04,   6.94673624e-04,   2.80191484e-04,\n",
        "          1.90671415e-04,   8.34544938e-04,   7.17031445e-04,\n",
        "          2.53837299e-04,   1.94667780e-04,   8.48913361e-04,\n",
        "          7.76603861e-04,   1.95795113e-04,   1.93137550e-04,\n",
        "          8.37266918e-04,   7.29436310e-04,   2.43274632e-04,\n",
        "          1.92825582e-04,   8.48913361e-04,   7.76603861e-04,\n",
        "          1.95795113e-04,   1.93137550e-04,   8.34544938e-04,\n",
        "          7.17031445e-04,   2.53837299e-04,   1.94667780e-04,\n",
        "          8.28342455e-04,   6.94673624e-04,   2.80191484e-04,\n",
        "          1.90671415e-04,   8.08913299e-01,   3.16270264e-01,\n",
        "          4.92643034e-01,   8.12258250e-04]])"
       ]
      }
     ],
     "prompt_number": 37
    },
    {
     "cell_type": "code",
     "collapsed": false,
     "input": [
      "col = list(art.columns.values)\n",
      "print len(col)"
     ],
     "language": "python",
     "metadata": {},
     "outputs": [
      {
       "output_type": "stream",
       "stream": "stdout",
       "text": [
        "32\n"
       ]
      }
     ],
     "prompt_number": 38
    },
    {
     "cell_type": "code",
     "collapsed": false,
     "input": [
      "# plot the cluster centers \n",
      "\n",
      "x2 = range(0, len(col))\n",
      "\n",
      "y1 = k_means.cluster_centers_[0]\n",
      "y2 = k_means.cluster_centers_[1]\n",
      "y3 = k_means.cluster_centers_[2]\n",
      "y4 = k_means.cluster_centers_[3]\n",
      "# y5 = k_means.cluster_centers_[4]\n"
     ],
     "language": "python",
     "metadata": {},
     "outputs": [],
     "prompt_number": 39
    },
    {
     "cell_type": "code",
     "collapsed": false,
     "input": [
      "\n",
      "plt.plot(x2,y1)\n",
      "plt.plot(x2, y2, color = \"red\")\n",
      "plt.plot(x2, y3, color = \"green\")\n",
      "plt.plot(x2, y4, color = \"orange\")\n",
      "plt.xticks( x2, col )\n",
      "plt.xticks(rotation = 70)\n",
      "# plt.plot(x, y5, color = \"purple\")\n"
     ],
     "language": "python",
     "metadata": {},
     "outputs": [
      {
       "metadata": {},
       "output_type": "pyout",
       "prompt_number": 40,
       "text": [
        "(array([ 0,  1,  2,  3,  4,  5,  6,  7,  8,  9, 10, 11, 12, 13, 14, 15, 16,\n",
        "       17, 18, 19, 20, 21, 22, 23, 24, 25, 26, 27, 28, 29, 30, 31]),\n",
        " <a list of 32 Text xticklabel objects>)"
       ]
      },
      {
       "metadata": {},
       "output_type": "display_data",
       "png": "[encoded data removed]",
       "text": [
        "<matplotlib.figure.Figure at 0x7f4207672690>"
       ]
      }
     ],
     "prompt_number": 40
    },
    {
     "cell_type": "code",
     "collapsed": false,
     "input": [
      "k_means.labels_"
     ],
     "language": "python",
     "metadata": {},
     "outputs": [
      {
       "metadata": {},
       "output_type": "pyout",
       "prompt_number": 48,
       "text": [
        "array([2, 1, 1, ..., 3, 1, 0], dtype=int32)"
       ]
      }
     ],
     "prompt_number": 48
    },
    {
     "cell_type": "code",
     "collapsed": false,
     "input": [
      "# get list indexs with of with level 0\n",
      "labels = k_means.labels_\n",
      "ii = np.where(labels == 0)[0]"
     ],
     "language": "python",
     "metadata": {},
     "outputs": [],
     "prompt_number": 49
    },
    {
     "cell_type": "code",
     "collapsed": false,
     "input": [
      "# load url\n",
      "url = \"http://40.media.tumblr.com/bae2ac17797e7eb78038834afa7754e9/tumblr_nhk0vpni6P1teo717o1_1280.jpg\"\n",
      "img = img_from_url(url)"
     ],
     "language": "python",
     "metadata": {},
     "outputs": [
      {
       "output_type": "stream",
       "stream": "stdout",
       "text": [
        "Now extracting features from artwork\n"
       ]
      }
     ],
     "prompt_number": 50
    },
    {
     "cell_type": "code",
     "collapsed": false,
     "input": [
      "print img"
     ],
     "language": "python",
     "metadata": {},
     "outputs": [
      {
       "output_type": "stream",
       "stream": "stdout",
       "text": [
        "[0.63277024089506984, 0.45553608425414366, 0.48365763121546962, 0.060806284530386744, 0.75648071038525055, 0.79441384668508286, 0.20058356353591161, 0.005002589779005525, 0.63882420647042037, 0.22375517955801105, 0.77230058701657456, 0.0039442334254143644]\n"
       ]
      }
     ],
     "prompt_number": 51
    },
    {
     "cell_type": "code",
     "collapsed": false,
     "input": [
      "# make predction for img\n",
      "predict = k_means.predict(img)\n",
      "print predict # which cluster does it belong to?\n",
      "cluster = predict[0]"
     ],
     "language": "python",
     "metadata": {},
     "outputs": [
      {
       "output_type": "stream",
       "stream": "stdout",
       "text": [
        "[3]\n"
       ]
      }
     ],
     "prompt_number": 52
    },
    {
     "cell_type": "code",
     "collapsed": false,
     "input": [
      "labels = k_means.labels_\n",
      "# subset dataframe to only include rows in the cluster\n",
      "indexes = np.where(labels == cluster)[0]\n",
      "art_subset = art.iloc[indexes]"
     ],
     "language": "python",
     "metadata": {},
     "outputs": [],
     "prompt_number": 53
    },
    {
     "cell_type": "code",
     "collapsed": false,
     "input": [
      "cluster_center = k_means.cluster_centers_[cluster]"
     ],
     "language": "python",
     "metadata": {},
     "outputs": [],
     "prompt_number": 54
    },
    {
     "cell_type": "code",
     "collapsed": false,
     "input": [
      " p = art_subset.iloc[0]\n",
      "p "
     ],
     "language": "python",
     "metadata": {},
     "outputs": [
      {
       "metadata": {},
       "output_type": "pyout",
       "prompt_number": 55,
       "text": [
        "avg_blue      0.529872\n",
        "high_blue     0.482437\n",
        "med_blue      0.184526\n",
        "low_blue      0.333037\n",
        "avg_green     0.559321\n",
        "high_green    0.617317\n",
        "med_green     0.052295\n",
        "low_green     0.330388\n",
        "avg_red       0.592501\n",
        "high_red      0.637510\n",
        "med_red       0.039990\n",
        "low_red       0.322500\n",
        "Name: (abominationdiary, http://40.media.tumblr.com/ac814254e1e5cf6df4a5d4c0517daf57/tumblr_nmgzhnX8Xz1tssc86o1_1280.jpg), dtype: float64"
       ]
      }
     ],
     "prompt_number": 55
    },
    {
     "cell_type": "code",
     "collapsed": false,
     "input": [
      "nrows = int(art_subset.shape[0])\n",
      "v = img\n",
      "\n",
      "# i = 1\n",
      "# row = list(art_subset.iloc[i])\n",
      "# print row\n",
      "# print img\n",
      "# sp.distance.euclidean(row,v)\n",
      "\n",
      "diff = []\n",
      "\n",
      "for i in range(0,nrows):\n",
      "    row = list(art_subset.iloc[i])\n",
      "    diff.append(sp.distance.euclidean(row,v))\n",
      "art_subset[\"diff\"] = diff\n",
      "# # calculate the euclidean distance from the img vector\n",
      "# def calc_diff(u):\n",
      "#     u = list(u)\n",
      "#     return sp.distance.euclidean(u,v)\n",
      "# art_subset[\"diff\"] =  art_subset.apply(func = calc_diff, axis =1, reduce = True)\n"
     ],
     "language": "python",
     "metadata": {},
     "outputs": [],
     "prompt_number": 56
    },
    {
     "cell_type": "code",
     "collapsed": false,
     "input": [
      "# sort and fint 5 closest\n",
      "df = art_subset.sort('diff').iloc[0:5]\n",
      "df.reset_index(inplace = True)\n",
      "artists = list(df['X'])\n",
      "art_urls = list(df['X.1'])\n",
      "# get urls they refer to"
     ],
     "language": "python",
     "metadata": {},
     "outputs": [],
     "prompt_number": 57
    },
    {
     "cell_type": "code",
     "collapsed": false,
     "input": [
      "art_urls"
     ],
     "language": "python",
     "metadata": {},
     "outputs": [
      {
       "metadata": {},
       "output_type": "pyout",
       "prompt_number": 58,
       "text": [
        "['http://40.media.tumblr.com/bae2ac17797e7eb78038834afa7754e9/tumblr_nhk0vpni6P1teo717o1_1280.jpg',\n",
        " 'http://41.media.tumblr.com/1f604ffd3567423642e900b2b5e743d9/tumblr_nl1s57xhdl1rt4xnho2_1280.jpg',\n",
        " 'http://41.media.tumblr.com/a99a3ba4d22362a3c0f0cc3f4d7b6c7d/tumblr_njnw0plDrx1qzq15oo1_1280.jpg',\n",
        " 'http://40.media.tumblr.com/tumblr_m9bk1fYs6q1qeju05o1_1280.jpg',\n",
        " 'http://41.media.tumblr.com/fbe1b863983825667f014c98557baa5b/tumblr_nnu2rd8CXE1qkxrtro1_1280.jpg']"
       ]
      }
     ],
     "prompt_number": 58
    },
    {
     "cell_type": "code",
     "collapsed": false,
     "input": [],
     "language": "python",
     "metadata": {},
     "outputs": []
    }
   ],
   "metadata": {}
  }
 ]
}